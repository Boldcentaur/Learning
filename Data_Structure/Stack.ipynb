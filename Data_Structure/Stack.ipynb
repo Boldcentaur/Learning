{
 "cells": [
  {
   "cell_type": "markdown",
   "metadata": {},
   "source": [
    "# Stack"
   ]
  },
  {
   "attachments": {},
   "cell_type": "markdown",
   "metadata": {},
   "source": [
    "![title](img/stack.png)"
   ]
  },
  {
   "attachments": {},
   "cell_type": "markdown",
   "metadata": {},
   "source": [
    "![title](img/stack_time.png)"
   ]
  },
  {
   "attachments": {},
   "cell_type": "markdown",
   "metadata": {},
   "source": [
    "# Geeksforgeeks"
   ]
  },
  {
   "attachments": {},
   "cell_type": "markdown",
   "metadata": {},
   "source": [
    "### Infix to Postfix Conversion"
   ]
  },
  {
   "cell_type": "code",
   "execution_count": 37,
   "metadata": {},
   "outputs": [
    {
     "data": {
      "text/plain": [
       "'abcd^e-fgh*+^*+i-'"
      ]
     },
     "execution_count": 37,
     "metadata": {},
     "output_type": "execute_result"
    }
   ],
   "source": [
    "class infixToPostfix:\n",
    "    def __init__(self):\n",
    "        self.stack = []\n",
    "        self.output = ''\n",
    "        self.top = -1\n",
    "        self.precedence = {'+': 0, '-': 0, '*': 1, '/': 1, '^': 2}\n",
    "        \n",
    "    def push(self, char):\n",
    "        self.stack.append(char)\n",
    "        self.top += 1\n",
    "    \n",
    "    def pop(self):\n",
    "        self.output += self.stack[self.top]\n",
    "        self.stack.pop()\n",
    "        self.top -= 1\n",
    "        \n",
    "    #Function to convert an infix expression to a postfix expression.\n",
    "    def InfixtoPostfix(self, exp):\n",
    "        #code here\n",
    "        for i in exp:\n",
    "            if i.isalpha():\n",
    "                self.output += i\n",
    "            elif i == '(':\n",
    "                self.push(i)\n",
    "            elif i == ')':\n",
    "                operator = self.stack[self.top]\n",
    "                while operator != '(':\n",
    "                    if operator != ')':\n",
    "                        self.pop()\n",
    "                    operator = self.stack[self.top]\n",
    "                self.stack.pop()\n",
    "                self.top -= 1\n",
    "            else:\n",
    "                while self.stack and self.stack[self.top] != '(' and self.precedence[i] <= self.precedence[self.stack[self.top]]:\n",
    "                    self.pop()\n",
    "                self.push(i)\n",
    "        while self.stack:\n",
    "            self.pop()\n",
    "        return self.output\n",
    "\n",
    "a = 'a+b*(c^d-e)^(f+g*h)-i'\n",
    "inToPost = infixToPostfix()\n",
    "inToPost.InfixtoPostfix(a)\n",
    "\n",
    "# Time: O(n)\n",
    "# Space: O(n)"
   ]
  },
  {
   "attachments": {},
   "cell_type": "markdown",
   "metadata": {},
   "source": [
    "### Prefix to Infix Conversion"
   ]
  },
  {
   "cell_type": "code",
   "execution_count": 10,
   "metadata": {},
   "outputs": [
    {
     "data": {
      "text/plain": [
       "'((A-(B/C))*((A/K)-L))'"
      ]
     },
     "execution_count": 10,
     "metadata": {},
     "output_type": "execute_result"
    }
   ],
   "source": [
    "class PrefixToInfix:\n",
    "    def __init__(self):\n",
    "        self.stack = []\n",
    "        self.top = -1\n",
    "    \n",
    "    def push(self, char):\n",
    "        self.stack.append(char)\n",
    "        self.top += 1\n",
    "    \n",
    "    def PrefixtoInfix(self, exp):\n",
    "        for i in range(len(exp)-1, -1, -1):\n",
    "            if exp[i].isalpha():\n",
    "                self.push(exp[i])\n",
    "            else:\n",
    "                new_exp = '(' + self.stack.pop() + exp[i] + self.stack.pop() + ')'\n",
    "                self.top -= 2\n",
    "                self.push(new_exp)\n",
    "        return self.stack.pop()\n",
    "\n",
    "a = \"*-A/BC-/AKL\"\n",
    "PreToIn = PrefixToInfix()\n",
    "PreToIn.PrefixtoInfix(a)\n",
    "\n",
    "# Time: O(n)\n",
    "# Space: O(n)"
   ]
  },
  {
   "cell_type": "markdown",
   "metadata": {},
   "source": [
    "### Prefix to Postfix Conversion"
   ]
  },
  {
   "cell_type": "code",
   "execution_count": 12,
   "metadata": {},
   "outputs": [
    {
     "data": {
      "text/plain": [
       "'ABC/-AK/L-*'"
      ]
     },
     "execution_count": 12,
     "metadata": {},
     "output_type": "execute_result"
    }
   ],
   "source": [
    "class PrefixToPostfix:\n",
    "    def __init__(self):\n",
    "        self.stack = []\n",
    "        self.top = -1\n",
    "    \n",
    "    def push(self, char):\n",
    "        self.stack.append(char)\n",
    "        self.top += 1\n",
    "    \n",
    "    def PrefixtoPostfix(self, exp):\n",
    "        for i in range(len(exp)-1, -1, -1):\n",
    "            if exp[i].isalpha():\n",
    "                self.push(exp[i])\n",
    "            else:\n",
    "                new_exp = self.stack.pop() + self.stack.pop() + exp[i]\n",
    "                self.top -= 2\n",
    "                self.push(new_exp)\n",
    "        return self.stack.pop()\n",
    "\n",
    "a = \"*-A/BC-/AKL\"\n",
    "PreToPost = PrefixToPostfix()\n",
    "PreToPost.PrefixtoPostfix(a)\n",
    "\n",
    "# Time: O(n)\n",
    "# Space: O(n)"
   ]
  },
  {
   "cell_type": "markdown",
   "metadata": {},
   "source": [
    "### Postfix to Prefix Conversion"
   ]
  },
  {
   "cell_type": "code",
   "execution_count": 17,
   "metadata": {},
   "outputs": [
    {
     "data": {
      "text/plain": [
       "'*-A/BC-/AKL'"
      ]
     },
     "execution_count": 17,
     "metadata": {},
     "output_type": "execute_result"
    }
   ],
   "source": [
    "class PostfixToPrefix:\n",
    "    def __init__(self):\n",
    "        self.stack = []\n",
    "        self.top = -1\n",
    "    \n",
    "    def push(self, char):\n",
    "        self.stack.append(char)\n",
    "        self.top += 1\n",
    "    \n",
    "    def PostfixtoPrefix(self, exp):\n",
    "        for i in range(len(exp)):\n",
    "            if exp[i].isalpha():\n",
    "                self.push(exp[i])\n",
    "            else:\n",
    "                first_pop = self.stack.pop()\n",
    "                second_pop = self.stack.pop()\n",
    "                new_exp = exp[i] + second_pop + first_pop\n",
    "                self.top -= 2\n",
    "                self.push(new_exp)\n",
    "        return self.stack.pop()\n",
    "\n",
    "a = \"ABC/-AK/L-*\"\n",
    "PostToPre = PostfixToPrefix()\n",
    "PostToPre.PostfixtoPrefix(a)\n",
    "\n",
    "# Time: O(n)\n",
    "# Space: O(n)"
   ]
  },
  {
   "cell_type": "markdown",
   "metadata": {},
   "source": [
    "### Postfix to Infix Conversion"
   ]
  },
  {
   "cell_type": "code",
   "execution_count": 19,
   "metadata": {},
   "outputs": [
    {
     "data": {
      "text/plain": [
       "'((A-(B/C))*((A/K)-L))'"
      ]
     },
     "execution_count": 19,
     "metadata": {},
     "output_type": "execute_result"
    }
   ],
   "source": [
    "class PostfixToInfix:\n",
    "    def __init__(self):\n",
    "        self.stack = []\n",
    "        self.top = -1\n",
    "    \n",
    "    def push(self, char):\n",
    "        self.stack.append(char)\n",
    "        self.top += 1\n",
    "    \n",
    "    def PostfixtoInfix(self, exp):\n",
    "        for i in range(len(exp)):\n",
    "            if exp[i].isalpha():\n",
    "                self.push(exp[i])\n",
    "            else:\n",
    "                first_pop = self.stack.pop()\n",
    "                second_pop = self.stack.pop()\n",
    "                new_exp = '(' + second_pop + exp[i] + first_pop + ')'\n",
    "                self.top -= 2\n",
    "                self.push(new_exp)\n",
    "        return self.stack.pop()\n",
    "\n",
    "a = \"ABC/-AK/L-*\"\n",
    "PostToIn = PostfixToInfix()\n",
    "PostToIn.PostfixtoInfix(a)\n",
    "\n",
    "# Time: O(n)\n",
    "# Space: O(n)"
   ]
  },
  {
   "cell_type": "markdown",
   "metadata": {},
   "source": [
    "### Infix to Prefix Conversion"
   ]
  },
  {
   "cell_type": "code",
   "execution_count": 31,
   "metadata": {},
   "outputs": [
    {
     "data": {
      "text/plain": [
       "'++x/*yzwu'"
      ]
     },
     "execution_count": 31,
     "metadata": {},
     "output_type": "execute_result"
    }
   ],
   "source": [
    "class infixToPostfix:\n",
    "    def __init__(self):\n",
    "        self.stack = []\n",
    "        self.output = ''\n",
    "        self.top = -1\n",
    "        self.precedence = {'+': 0, '-': 0, '*': 1, '/': 1, '^': 2}\n",
    "        \n",
    "    def push(self, char):\n",
    "        self.stack.append(char)\n",
    "        self.top += 1\n",
    "    \n",
    "    def pop(self):\n",
    "        self.output = self.stack[self.top] + self.output\n",
    "        self.stack.pop()\n",
    "        self.top -= 1\n",
    "        \n",
    "    #Function to convert an infix expression to a postfix expression.\n",
    "    def InfixtoPostfix(self, exp):\n",
    "        #code here\n",
    "        for i in range(len(exp)-1, -1, -1):\n",
    "            if exp[i].isalpha():\n",
    "                self.output = exp[i] + self.output\n",
    "            elif exp[i] == ')':\n",
    "                self.push(exp[i])\n",
    "            elif exp[i] == '(':\n",
    "                operator = self.stack[self.top]\n",
    "                while operator != ')':\n",
    "                    if operator != '(':\n",
    "                        self.pop()\n",
    "                    operator = self.stack[self.top]\n",
    "                self.stack.pop()\n",
    "                self.top -= 1\n",
    "            else:\n",
    "                while self.stack and self.stack[self.top] != ')' and self.precedence[exp[i]] < self.precedence[self.stack[self.top]]:\n",
    "                    self.pop()\n",
    "                self.push(exp[i])\n",
    "        while self.stack:\n",
    "            self.pop()\n",
    "        return self.output\n",
    "\n",
    "a = 'x+y*z/w+u'\n",
    "inToPost = infixToPostfix()\n",
    "inToPost.InfixtoPostfix(a)\n",
    "\n",
    "# Time: O(n)\n",
    "# Space: O(n)"
   ]
  },
  {
   "cell_type": "code",
   "execution_count": null,
   "metadata": {},
   "outputs": [],
   "source": []
  }
 ],
 "metadata": {
  "kernelspec": {
   "display_name": "Python 3",
   "language": "python",
   "name": "python3"
  },
  "language_info": {
   "codemirror_mode": {
    "name": "ipython",
    "version": 3
   },
   "file_extension": ".py",
   "mimetype": "text/x-python",
   "name": "python",
   "nbconvert_exporter": "python",
   "pygments_lexer": "ipython3",
   "version": "3.8.8"
  },
  "orig_nbformat": 4,
  "vscode": {
   "interpreter": {
    "hash": "9650cb4e16cdd4a8e8e2d128bf38d875813998db22a3c986335f89e0cb4d7bb2"
   }
  }
 },
 "nbformat": 4,
 "nbformat_minor": 2
}
