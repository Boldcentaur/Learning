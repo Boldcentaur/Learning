{
 "cells": [
  {
   "cell_type": "markdown",
   "metadata": {},
   "source": [
    "# Singly Linked List"
   ]
  },
  {
   "attachments": {},
   "cell_type": "markdown",
   "metadata": {},
   "source": [
    "![title](img/singly_linked_list_time.jpg)"
   ]
  },
  {
   "attachments": {},
   "cell_type": "markdown",
   "metadata": {},
   "source": [
    "# Doubly Linked List"
   ]
  },
  {
   "attachments": {},
   "cell_type": "markdown",
   "metadata": {},
   "source": [
    "1. With tail and doubly linked list, constant time to add/remove from the back.\n",
    "2. List elements need not be contiguous"
   ]
  },
  {
   "attachments": {},
   "cell_type": "markdown",
   "metadata": {},
   "source": [
    "# Geekfsorgeeks"
   ]
  },
  {
   "attachments": {},
   "cell_type": "markdown",
   "metadata": {},
   "source": [
    "### Find the middle of a given linked list"
   ]
  },
  {
   "cell_type": "code",
   "execution_count": 3,
   "metadata": {},
   "outputs": [
    {
     "name": "stdout",
     "output_type": "stream",
     "text": [
      "5->NULL\n",
      "5\n",
      "4->5->NULL\n",
      "5\n",
      "3->4->5->NULL\n",
      "4\n",
      "2->3->4->5->NULL\n",
      "4\n",
      "1->2->3->4->5->NULL\n",
      "3\n"
     ]
    }
   ],
   "source": [
    "class Node:\n",
    "    def __init__(self, data):\n",
    "        self.data = data\n",
    "        self.next = None\n",
    "\n",
    "class Solution:\n",
    "    def __init__(self):\n",
    "        self.head = None\n",
    "\n",
    "    def push(self, new_data): \n",
    "        new_node = Node(new_data) \n",
    "        new_node.next = self.head \n",
    "        self.head = new_node\n",
    "\n",
    "    def printList(self):\n",
    "        node = self.head\n",
    "        while node:\n",
    "            print(str(node.data) + \"->\", end=\"\")\n",
    "            node = node.next\n",
    "        print(\"NULL\")\n",
    "\n",
    "    def printMiddle(self):\n",
    "        slow = self.head\n",
    "        fast = self.head\n",
    "        while fast and fast.next:\n",
    "            slow = slow.next\n",
    "            fast = fast.next.next\n",
    "        return print(slow.data)\n",
    "   \n",
    "# Start with the empty list\n",
    "llist = Solution()\n",
    "\n",
    "for i in range(5, 0, -1):\n",
    "    llist.push(i)\n",
    "    llist.printList()\n",
    "    llist.printMiddle()\n",
    "        \n",
    "# Time: O(n)\n",
    "# Space: O(1)"
   ]
  },
  {
   "attachments": {},
   "cell_type": "markdown",
   "metadata": {},
   "source": [
    "### Write a function that counts the number of times a given int occurs in a Linked List"
   ]
  },
  {
   "cell_type": "code",
   "execution_count": 4,
   "metadata": {},
   "outputs": [],
   "source": [
    "def count(self, search_for):\n",
    "        current = self.head\n",
    "        count = 0\n",
    "        while(current is not None):\n",
    "            if current.data == search_for:\n",
    "                count += 1\n",
    "            current = current.next\n",
    "        return count\n",
    "# Time: O(n)\n",
    "# Space: O(1)"
   ]
  },
  {
   "attachments": {},
   "cell_type": "markdown",
   "metadata": {},
   "source": [
    "### Check if a linked list is Circular Linked List"
   ]
  },
  {
   "cell_type": "code",
   "execution_count": 5,
   "metadata": {},
   "outputs": [],
   "source": [
    "def isCircular(head):\n",
    "    if head == None:\n",
    "        return True\n",
    "    # Code here\n",
    "    node = head.next\n",
    "    while node:\n",
    "        if node == head:\n",
    "            return True\n",
    "        node = node.next\n",
    "    return False\n",
    "\n",
    "# Time: O(n)\n",
    "# Space: O(1)"
   ]
  },
  {
   "cell_type": "code",
   "execution_count": null,
   "metadata": {},
   "outputs": [],
   "source": []
  }
 ],
 "metadata": {
  "kernelspec": {
   "display_name": "Python 3",
   "language": "python",
   "name": "python3"
  },
  "language_info": {
   "codemirror_mode": {
    "name": "ipython",
    "version": 3
   },
   "file_extension": ".py",
   "mimetype": "text/x-python",
   "name": "python",
   "nbconvert_exporter": "python",
   "pygments_lexer": "ipython3",
   "version": "3.8.8"
  },
  "orig_nbformat": 4,
  "vscode": {
   "interpreter": {
    "hash": "9650cb4e16cdd4a8e8e2d128bf38d875813998db22a3c986335f89e0cb4d7bb2"
   }
  }
 },
 "nbformat": 4,
 "nbformat_minor": 2
}
