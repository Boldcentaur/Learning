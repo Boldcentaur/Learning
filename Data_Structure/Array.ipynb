{
 "cells": [
  {
   "cell_type": "markdown",
   "metadata": {},
   "source": [
    "# Array"
   ]
  },
  {
   "cell_type": "markdown",
   "metadata": {},
   "source": [
    "1. Contiguous area of memory consisting of equal-size elements indexed by contiguoug integers.\n",
    "2. Constant time access to each of the element.\n",
    "3. Constant time to remove/add at the end\n",
    "4. Linear time to remove/add at the beginning/middle."
   ]
  },
  {
   "cell_type": "markdown",
   "metadata": {},
   "source": [
    "![title](img/array.png)"
   ]
  },
  {
   "cell_type": "markdown",
   "metadata": {},
   "source": [
    "![title](img/array_time.png)"
   ]
  },
  {
   "cell_type": "markdown",
   "metadata": {},
   "source": [
    "# Dynamic Array"
   ]
  },
  {
   "cell_type": "markdown",
   "metadata": {},
   "source": [
    "1. A dynamic array is a random access, variable-size list data structure that allows elements to be added or removed."
   ]
  },
  {
   "cell_type": "markdown",
   "metadata": {},
   "source": [
    "![title](img/dynamic_array_time.png)"
   ]
  },
  {
   "cell_type": "markdown",
   "metadata": {},
   "source": [
    "# Jagged Array"
   ]
  },
  {
   "cell_type": "markdown",
   "metadata": {},
   "source": [
    "1. Also known as array of array"
   ]
  },
  {
   "cell_type": "markdown",
   "metadata": {},
   "source": [
    "# Leetcode"
   ]
  },
  {
   "cell_type": "markdown",
   "metadata": {},
   "source": [
    "### 217. Contains Duplicate\n",
    "Given an integer array nums, return true if any value appears at least twice in the array, and return false if every element is distinct."
   ]
  },
  {
   "cell_type": "code",
   "execution_count": 1,
   "metadata": {},
   "outputs": [],
   "source": [
    "def containsDuplicate(self, nums) -> bool:\n",
    "    hset = set()\n",
    "    for num in nums:\n",
    "        if num in hset:\n",
    "            return True\n",
    "        else:\n",
    "            hset.add(num)\n",
    "    return False"
   ]
  },
  {
   "cell_type": "markdown",
   "metadata": {},
   "source": [
    "### 53. Maximum Subarray\n",
    "Given an integer array nums, find the subarray with the largest sum, and return its sum."
   ]
  },
  {
   "cell_type": "code",
   "execution_count": 2,
   "metadata": {},
   "outputs": [],
   "source": [
    "def maxSubArray(self, nums) -> int:\n",
    "    if len(nums) == 1:\n",
    "        return nums[0]\n",
    "    maxSum = currSum = nums[0]\n",
    "    for i in range(1, len(nums)):\n",
    "        currSum = max(currSum + nums[i], nums[i])\n",
    "        maxSum = max(currSum, maxSum)\n",
    "    return maxSum"
   ]
  },
  {
   "cell_type": "markdown",
   "metadata": {},
   "source": [
    "# Geeksforgeeks"
   ]
  },
  {
   "attachments": {},
   "cell_type": "markdown",
   "metadata": {},
   "source": [
    "### Rearrange an array such that arr[i] = i\n",
    "Given an array of elements of length N, ranging from 0 to N – 1. All elements may not be present in the array. If the element is not present then there will be -1 present in the array. Rearrange the array such that A[i] = i and if i is not present, display -1 at that place."
   ]
  },
  {
   "cell_type": "code",
   "execution_count": 12,
   "metadata": {},
   "outputs": [
    {
     "data": {
      "text/plain": [
       "[-1, -1, 2, 3, 4, -1, 6, -1, -1, -1]"
      ]
     },
     "execution_count": 12,
     "metadata": {},
     "output_type": "execute_result"
    }
   ],
   "source": [
    "def fix(A):\n",
    "    for i in range(len(A)):\n",
    "        if A[i] != i and A[i] != -1:\n",
    "            x = A[i]\n",
    "            while A[x] != x and A[x] != -1:\n",
    "                y = A[x]\n",
    "                A[x] = x\n",
    "                x = y\n",
    "    for i in range(len(A)):\n",
    "        if A[i] != i:\n",
    "            A[i] = -1\n",
    "    return A\n",
    "\n",
    "A = [-1, -1, 6, 1, 9, 3, 2, -1, 4, -1]\n",
    "fix(A)\n",
    "\n",
    "# Time: O(n)\n",
    "# Space: O(1)"
   ]
  },
  {
   "cell_type": "markdown",
   "metadata": {},
   "source": [
    "### Move all zeroes to end of array\n",
    "Given an array of random numbers, Push all the zero’s of a given array to the end of the array"
   ]
  },
  {
   "cell_type": "code",
   "execution_count": 15,
   "metadata": {},
   "outputs": [
    {
     "data": {
      "text/plain": [
       "[1, 9, 8, 4, 2, 7, 6, 9, 0, 0, 0, 0]"
      ]
     },
     "execution_count": 15,
     "metadata": {},
     "output_type": "execute_result"
    }
   ],
   "source": [
    "def pushZerosToEnd(arr):\n",
    "    count = 0\n",
    "    for i in range(len(arr)):\n",
    "        if arr[i] != 0:\n",
    "            arr[count] = arr[i]\n",
    "            count += 1\n",
    "    for i in range(count, len(arr)):\n",
    "        arr[i] = 0\n",
    "    return arr\n",
    "\n",
    "arr = [1, 9, 8, 4, 0, 0, 2, 7, 0, 6, 0, 9]\n",
    "pushZerosToEnd(arr)\n",
    "\n",
    "# Time: O(n)\n",
    "# Space: O(1)"
   ]
  },
  {
   "attachments": {},
   "cell_type": "markdown",
   "metadata": {},
   "source": [
    "### Rearrange array such that even positioned are greater than odd"
   ]
  },
  {
   "cell_type": "code",
   "execution_count": 30,
   "metadata": {},
   "outputs": [
    {
     "data": {
      "text/plain": [
       "[13, 41, 22, 22, 5, 80]"
      ]
     },
     "execution_count": 30,
     "metadata": {},
     "output_type": "execute_result"
    }
   ],
   "source": [
    "def assign(a):\n",
    "    for i in range(1, len(a)):\n",
    "        if i % 2 == 0:\n",
    "            if a[i] > a[i-1]:\n",
    "                a[i], a[i-1] = a[i-1], a[i]\n",
    "        else:\n",
    "            if a[i] < a[i-1]:\n",
    "                a[i], a[i-1] = a[i-1], a[i]\n",
    "\n",
    "    return a\n",
    "\n",
    "A = [ 41, 13, 22, 22, 5, 80]\n",
    "assign(A)\n",
    "\n",
    "# Time: O(n)\n",
    "# Space: O(1)"
   ]
  },
  {
   "attachments": {},
   "cell_type": "markdown",
   "metadata": {},
   "source": [
    "### Rearrange an array in maximum minimum form using Two Pointer Technique\n",
    "Given a sorted array of positive integers, rearrange the array alternately i.e first element should be a maximum value, at second position minimum value, at third position second max, at fourth position second min, and so on. "
   ]
  },
  {
   "cell_type": "code",
   "execution_count": 37,
   "metadata": {},
   "outputs": [
    {
     "data": {
      "text/plain": [
       "[1, 2, 3, 4, 5, 6]"
      ]
     },
     "execution_count": 37,
     "metadata": {},
     "output_type": "execute_result"
    }
   ],
   "source": [
    "def rearrange(arr):\n",
    "    temp = [None] * len(arr)\n",
    "    small = 0\n",
    "    large = len(arr)-1\n",
    "    for i in range(len(arr)):\n",
    "        if i % 2 == 0:\n",
    "            temp[i] = arr[large]\n",
    "            large -= 1\n",
    "        else:\n",
    "            temp[i] = arr[small]\n",
    "            small += 1\n",
    "    return arr\n",
    "\n",
    "arr = [1, 2, 3, 4, 5, 6]\n",
    "rearrange(arr)\n",
    "\n",
    "# Time: O(n)\n",
    "# Space: O(n)"
   ]
  },
  {
   "attachments": {},
   "cell_type": "markdown",
   "metadata": {},
   "source": [
    "### Segregate even and odd numbers\n",
    "Given an array arr[] of integers, segregate even and odd numbers in the array. Such that all the even numbers should be present first, and then the odd numbers."
   ]
  },
  {
   "cell_type": "code",
   "execution_count": 38,
   "metadata": {},
   "outputs": [
    {
     "data": {
      "text/plain": [
       "[2, 4, 6, 10, 7, 1, 9, 3]"
      ]
     },
     "execution_count": 38,
     "metadata": {},
     "output_type": "execute_result"
    }
   ],
   "source": [
    "def rearrange(arr):\n",
    "    count = 0\n",
    "    for i in range(len(arr)):\n",
    "        if arr[i] % 2 == 0:\n",
    "            arr[count], arr[i] = arr[i], arr[count]\n",
    "            count += 1\n",
    "    return arr\n",
    "\n",
    "arr = [ 1, 3, 2, 4, 7, 6, 9, 10 ]\n",
    "rearrange(arr)\n",
    "\n",
    "# Time: O(n)\n",
    "# Space: O(1)"
   ]
  },
  {
   "cell_type": "code",
   "execution_count": null,
   "metadata": {},
   "outputs": [],
   "source": []
  }
 ],
 "metadata": {
  "kernelspec": {
   "display_name": "Python 3",
   "language": "python",
   "name": "python3"
  },
  "language_info": {
   "codemirror_mode": {
    "name": "ipython",
    "version": 3
   },
   "file_extension": ".py",
   "mimetype": "text/x-python",
   "name": "python",
   "nbconvert_exporter": "python",
   "pygments_lexer": "ipython3",
   "version": "3.8.8"
  },
  "orig_nbformat": 4,
  "vscode": {
   "interpreter": {
    "hash": "9650cb4e16cdd4a8e8e2d128bf38d875813998db22a3c986335f89e0cb4d7bb2"
   }
  }
 },
 "nbformat": 4,
 "nbformat_minor": 2
}
